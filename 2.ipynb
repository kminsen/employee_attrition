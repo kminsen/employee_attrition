{
 "cells": [
  {
   "cell_type": "code",
   "execution_count": null,
   "metadata": {},
   "outputs": [],
   "source": [
    "import pandas as pd\n",
    "import numpy as np\n",
    "import seaborn as sns\n",
    "import matplotlib.pyplot as plt\n"
   ]
  },
  {
   "cell_type": "code",
   "execution_count": null,
   "metadata": {},
   "outputs": [],
   "source": [
    "df = pd.read_csv('employee_attrition.csv')\n",
    "df"
   ]
  },
  {
   "cell_type": "code",
   "execution_count": null,
   "metadata": {},
   "outputs": [],
   "source": [
    "# no missing values\n",
    "\n",
    "df.isna().sum().unique()\n",
    "\n",
    "# dropping useless columns : 'EmployeeCount','Over18'\n",
    "df.drop(columns=['EmployeeCount','Over18','StandardHours'],inplace=True)"
   ]
  },
  {
   "cell_type": "code",
   "execution_count": null,
   "metadata": {},
   "outputs": [],
   "source": [
    "categorical = ['WorkLifeBalance','EducationField','Department','JobRole','MaritalStatus','Gender','OverTime','Attrition','BusinessTravel', 'Education','EnvironmentSatisfaction','JobInvolvement','JobLevel','JobSatisfaction','PerformanceRating','RelationshipSatisfaction','StockOptionLevel']\n",
    "numerical = [x for x in df.columns if x not in categorical]"
   ]
  },
  {
   "cell_type": "code",
   "execution_count": null,
   "metadata": {},
   "outputs": [],
   "source": [
    "plt.figure(figsize=(6,3))\n",
    "sns.countplot(x = 'Attrition' , data = df)\n",
    "plt.title('Distribution of Numerical Feature')\n",
    "plt.show()"
   ]
  },
  {
   "cell_type": "code",
   "execution_count": null,
   "metadata": {},
   "outputs": [],
   "source": [
    "plt.figure(figsize=(6,3))\n",
    "sns.countplot(x='StockOptionLevel', hue='Attrition', data=df)\n",
    "plt.title('Stock Option Levels by Attrition')\n",
    "plt.xlabel('Stock Option Level')\n",
    "plt.ylabel('Count')\n",
    "plt.show()"
   ]
  },
  {
   "cell_type": "code",
   "execution_count": null,
   "metadata": {},
   "outputs": [],
   "source": [
    "# Pearson Correlation between numerical features\n",
    "\n",
    "corr = df[numerical].corr()\n",
    "\n",
    "plt.figure(figsize=(9,6))\n",
    "sns.heatmap(corr,annot=True,fmt='.2f')\n",
    "plt.title('Numerical Features Correlation')\n",
    "plt.show()"
   ]
  },
  {
   "cell_type": "code",
   "execution_count": null,
   "metadata": {},
   "outputs": [],
   "source": [
    "# Spearman correlation between numerical features + ordinal categorical data\n",
    "\n",
    "numerical_df = df.select_dtypes(exclude='object')\n",
    "\n",
    "corr = numerical_df.corr(method='spearman')\n",
    "plt.figure(figsize=(11,8))\n",
    "sns.heatmap(data=corr,annot = True,fmt = '.1f')\n",
    "plt.show()"
   ]
  },
  {
   "cell_type": "code",
   "execution_count": null,
   "metadata": {},
   "outputs": [],
   "source": [
    "# Create box plots for numerical features\n",
    "# numerical feature distributions to attrition\n",
    "\n",
    "numerical_features = df[numerical]\n",
    "\n",
    "print(numerical_features.columns.size)\n",
    "\n",
    "plt.figure(figsize=(20, 15))\n",
    "for i, feature in enumerate(numerical_features, 1):\n",
    "    plt.subplot(5, 5, i)\n",
    "    sns.boxplot(x='Attrition', y=feature, data=df)\n",
    "    plt.title(f'Box plot of {feature}')\n",
    "plt.tight_layout()\n",
    "plt.show()"
   ]
  },
  {
   "cell_type": "code",
   "execution_count": null,
   "metadata": {},
   "outputs": [],
   "source": [
    "contingency_table = pd.crosstab(df['MaritalStatus'],df['Attrition'])\n",
    "contingency_table.plot(kind='bar', figsize=(8, 5), colormap='viridis')\n",
    "plt.title('Stacked Bar Chart of Gender and Attrition')\n",
    "plt.xlabel('Gender')\n",
    "plt.ylabel('Count')\n",
    "plt.show()"
   ]
  },
  {
   "cell_type": "code",
   "execution_count": null,
   "metadata": {},
   "outputs": [],
   "source": [
    "contingency_table['percentage'] = contingency_table['Yes']/ (contingency_table['No'] + contingency_table['Yes'] )\n",
    "contingency_table"
   ]
  },
  {
   "cell_type": "code",
   "execution_count": null,
   "metadata": {},
   "outputs": [],
   "source": [
    "contingency_table = pd.crosstab([df['Gender'], df['MaritalStatus']], df['Attrition'])\n",
    "# Heatmap\n",
    "plt.figure(figsize=(8, 6))\n",
    "sns.heatmap(contingency_table, annot=True, fmt='d')\n",
    "plt.title('Heatmap of Gender and Attrition')\n",
    "plt.show()"
   ]
  },
  {
   "cell_type": "code",
   "execution_count": null,
   "metadata": {},
   "outputs": [],
   "source": [
    "contingency_table['percentage'] = contingency_table['Yes']/ (contingency_table['No'] + contingency_table['Yes'] )\n",
    "contingency_table['percentage'].plot(kind='bar', figsize=(9, 6), colormap='viridis',ylim=(0,1))"
   ]
  },
  {
   "cell_type": "code",
   "execution_count": null,
   "metadata": {},
   "outputs": [],
   "source": [
    "contingency_table = pd.crosstab([df['Education']], df['Attrition'])\n",
    "# Heatmap\n",
    "plt.figure(figsize=(8, 6))\n",
    "sns.heatmap(contingency_table, annot=True, fmt='d')\n",
    "plt.title('Heatmap of Gender and Attrition')\n",
    "plt.show()"
   ]
  },
  {
   "cell_type": "code",
   "execution_count": null,
   "metadata": {},
   "outputs": [],
   "source": [
    "contingency_table['percentage'] = contingency_table['Yes']/ (contingency_table['No'] + contingency_table['Yes'] )\n",
    "contingency_table['percentage'].plot(kind='bar', figsize=(9, 6), colormap='viridis',ylim=(0,1))"
   ]
  },
  {
   "cell_type": "code",
   "execution_count": null,
   "metadata": {},
   "outputs": [],
   "source": [
    "contingency_table = pd.crosstab([df['JobRole'],df['Department']], df['Attrition'])\n",
    "# Heatmap\n",
    "plt.figure(figsize=(8, 6))\n",
    "sns.heatmap(contingency_table, annot=True, fmt='d')\n",
    "plt.title('Heatmap of JobRole & Department on Attrition')\n",
    "plt.show()"
   ]
  },
  {
   "cell_type": "code",
   "execution_count": null,
   "metadata": {},
   "outputs": [],
   "source": [
    "contingency_table['percentage'] = contingency_table['Yes']/ (contingency_table['No'] + contingency_table['Yes'] )\n",
    "contingency_table['percentage'].plot(kind='bar', figsize=(9, 6), colormap='viridis',ylim=(0,1))"
   ]
  },
  {
   "cell_type": "code",
   "execution_count": null,
   "metadata": {},
   "outputs": [],
   "source": [
    "contingency_table = pd.crosstab([df['StockOptionLevel']], df['Attrition'])\n",
    "# Heatmap\n",
    "plt.figure(figsize=(8, 6))\n",
    "sns.heatmap(contingency_table, annot=True, fmt='d')\n",
    "plt.title('Heatmap of JobRole & Department on Attrition')\n",
    "plt.show()"
   ]
  },
  {
   "cell_type": "code",
   "execution_count": null,
   "metadata": {},
   "outputs": [],
   "source": [
    "contingency_table['percentage'] = contingency_table['Yes']/ (contingency_table['No'] + contingency_table['Yes'] )\n",
    "contingency_table['percentage'].plot(kind='bar', figsize=(9, 6), colormap='viridis',ylim=(0,1))"
   ]
  },
  {
   "cell_type": "code",
   "execution_count": null,
   "metadata": {},
   "outputs": [],
   "source": [
    "contingency_table = pd.crosstab([df['EnvironmentSatisfaction'],df['JobSatisfaction'],df['RelationshipSatisfaction']],df['Attrition'])\n",
    "\n",
    "contingency_table['percentage'] = contingency_table['Yes']/ (contingency_table['No'] + contingency_table['Yes'] )\n",
    "contingency_table['percentage'].plot(kind='bar', figsize=(15, 8), colormap='viridis',ylim=(0,1))\n",
    "# contingency_table.plot(kind='bar', figsize=(15, 8), colormap='viridis')\n",
    "\n",
    "plt.title('Stacked Bar Chart of Gender and Attrition')\n",
    "plt.xlabel('Gender')\n",
    "plt.ylabel('Count')\n",
    "plt.show()"
   ]
  },
  {
   "cell_type": "code",
   "execution_count": null,
   "metadata": {},
   "outputs": [],
   "source": [
    "contingency_table = pd.crosstab([df['EnvironmentSatisfaction'],df['RelationshipSatisfaction']],df['Attrition'])\n",
    "contingency_table['percentage'] = contingency_table['Yes']/ (contingency_table['No'] + contingency_table['Yes'] )\n",
    "contingency_table['percentage'].plot(kind='bar', figsize=(15, 8), colormap='viridis',ylim=(0,0.5))\n",
    "\n",
    "plt.title('Stacked Bar Chart of Gender and Attrition')\n",
    "plt.xlabel('Gender')\n",
    "plt.ylabel('Count')\n",
    "plt.show()"
   ]
  },
  {
   "cell_type": "code",
   "execution_count": null,
   "metadata": {},
   "outputs": [],
   "source": [
    "contingency_table['percentage'] = contingency_table['Yes']/ (contingency_table['No'] + contingency_table['Yes'] )\n",
    "contingency_table"
   ]
  },
  {
   "cell_type": "code",
   "execution_count": null,
   "metadata": {},
   "outputs": [],
   "source": [
    "# Overtime in Sales Department is a contributing factor to employee attrition\n",
    "sales_df = df[df['Department'] == 'Sales']\n",
    "contingency_table = pd.crosstab(sales_df['OverTime'],sales_df['Attrition'])\n",
    "contingency_table.plot(kind='bar', figsize=(9, 6), colormap='viridis')"
   ]
  },
  {
   "cell_type": "code",
   "execution_count": null,
   "metadata": {},
   "outputs": [],
   "source": [
    "contingency_table['percentage'] = contingency_table['Yes']/ (contingency_table['No'] + contingency_table['Yes'] )\n",
    "contingency_table['percentage'].plot(kind='bar',ylim = (0,1))"
   ]
  },
  {
   "cell_type": "code",
   "execution_count": null,
   "metadata": {},
   "outputs": [],
   "source": [
    "sales_df = df[df['Department'] == 'Sales']\n",
    "contingency_table = pd.crosstab(sales_df['JobInvolvement'],sales_df['Attrition'])\n",
    "contingency_table.plot(kind='bar', figsize=(9, 6), colormap='viridis')"
   ]
  },
  {
   "cell_type": "code",
   "execution_count": null,
   "metadata": {},
   "outputs": [],
   "source": [
    "contingency_table['percentage'] = contingency_table['Yes']/ (contingency_table['No'] + contingency_table['Yes'] )\n",
    "contingency_table['percentage'].plot(kind='bar',ylim = (0,1))"
   ]
  },
  {
   "cell_type": "code",
   "execution_count": null,
   "metadata": {},
   "outputs": [],
   "source": [
    "yes_df = df[df['Attrition'] == 'Yes']\n",
    "no_df = df[df['Attrition'] == 'No']"
   ]
  },
  {
   "cell_type": "code",
   "execution_count": null,
   "metadata": {},
   "outputs": [],
   "source": [
    "contingency_table = pd.crosstab([df['JobLevel']],df['Attrition'])\n",
    "contingency_table['percentage'] = contingency_table['Yes']/ (contingency_table['No'] + contingency_table['Yes'] )\n",
    "contingency_table['percentage'].plot(kind='bar', figsize=(9,6), colormap='viridis',ylim=(0,0.5))\n",
    "\n",
    "plt.title('Stacked Bar Chart of Gender and Attrition')\n",
    "plt.xlabel('Gender')\n",
    "plt.ylabel('Count')\n",
    "plt.show()"
   ]
  },
  {
   "cell_type": "code",
   "execution_count": null,
   "metadata": {},
   "outputs": [],
   "source": []
  },
  {
   "cell_type": "code",
   "execution_count": null,
   "metadata": {},
   "outputs": [],
   "source": []
  },
  {
   "cell_type": "code",
   "execution_count": null,
   "metadata": {},
   "outputs": [],
   "source": []
  }
 ],
 "metadata": {
  "language_info": {
   "name": "python"
  }
 },
 "nbformat": 4,
 "nbformat_minor": 2
}
