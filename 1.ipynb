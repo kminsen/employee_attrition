{
 "cells": [
  {
   "cell_type": "code",
   "execution_count": null,
   "metadata": {},
   "outputs": [],
   "source": [
    "import pandas as pd\n",
    "\n",
    "# Load the dataset\n",
    "file_path = 'employee_attrition.csv'\n",
    "employee_data = pd.read_csv(file_path)\n",
    "\n",
    "# Prepare data\n",
    "employee_data['tenure'] = employee_data['YearsAtCompany']\n",
    "employee_data['event'] = employee_data['Attrition'].apply(lambda x: 1 if x == 'Yes' else 0)\n",
    "\n",
    "# dropping useless columns : 'EmployeeCount','Over18'\n",
    "employee_data.drop(columns=['EmployeeCount','Over18','StandardHours'],inplace=True)"
   ]
  },
  {
   "cell_type": "code",
   "execution_count": null,
   "metadata": {},
   "outputs": [],
   "source": [
    "from lifelines import KaplanMeierFitter\n",
    "import matplotlib.pyplot as plt\n",
    "\n",
    "# Initialize the Kaplan-Meier fitter\n",
    "kmf = KaplanMeierFitter()\n",
    "\n",
    "# Fit the data\n",
    "kmf.fit(durations=employee_data['tenure'], event_observed=employee_data['event'])\n",
    "\n",
    "# Plot the survival function\n",
    "kmf.plot_survival_function()\n",
    "plt.title('Employee Retention over Time')\n",
    "plt.xlabel('Time (Years)')\n",
    "plt.ylabel('Survival Probability')\n",
    "plt.show()"
   ]
  },
  {
   "cell_type": "code",
   "execution_count": null,
   "metadata": {},
   "outputs": [],
   "source": [
    "numerical_df = employee_data.select_dtypes(exclude='object')"
   ]
  },
  {
   "cell_type": "code",
   "execution_count": null,
   "metadata": {},
   "outputs": [],
   "source": [
    "from statsmodels.stats.outliers_influence import variance_inflation_factor\n",
    "from statsmodels.tools.tools import add_constant\n",
    "\n",
    "X = add_constant(numerical_df.drop(columns=[ 'event','tenure','YearsAtCompany']))  # Drop target and duration columns\n",
    "vif = pd.DataFrame()\n",
    "vif[\"Variable\"] = X.columns\n",
    "vif[\"VIF\"] = [variance_inflation_factor(X.values, i) for i in range(X.shape[1])]\n",
    "print(vif)"
   ]
  },
  {
   "cell_type": "code",
   "execution_count": null,
   "metadata": {},
   "outputs": [],
   "source": [
    "import seaborn as sns\n",
    "import numpy as np\n",
    "\n",
    "\n",
    "corr = numerical_df.drop(columns=[ 'event','tenure']).corr(method='spearman')\n",
    "plt.figure(figsize=(11,8))\n",
    "sns.heatmap(data=corr,annot = True,fmt = '.1f')\n",
    "plt.show()\n",
    "\n",
    "# Monthly Income vs JobLevel\n",
    "# YearsAtCompany vs Years-related features(with WithCurrManager etc.)"
   ]
  },
  {
   "cell_type": "code",
   "execution_count": null,
   "metadata": {},
   "outputs": [],
   "source": [
    "def correlation_filter(df,threshold):\n",
    "    for i in df.columns:\n",
    "        for j in df.columns:\n",
    "            if i < j and abs(df[i][j]) >= threshold:\n",
    "                return (i,j)\n",
    "correlation_filter(corr,0.9)"
   ]
  },
  {
   "cell_type": "code",
   "execution_count": null,
   "metadata": {},
   "outputs": [],
   "source": [
    "from lifelines import CoxPHFitter\n",
    "\n",
    "# Select relevant columns\n",
    "cox_data = employee_data[['tenure', 'event', 'Age','MonthlyIncome','YearsInCurrentRole','YearsWithCurrManager','YearsSinceLastPromotion','TotalWorkingYears','TrainingTimesLastYear', 'JobSatisfaction', 'RelationshipSatisfaction','EnvironmentSatisfaction','OverTime','WorkLifeBalance','StockOptionLevel','BusinessTravel','MaritalStatus','DistanceFromHome','Gender','JobInvolvement','JobLevel','Education']]\n",
    "\n",
    "# Encode categorical variables\n",
    "cox_data = pd.get_dummies(cox_data, drop_first=True)\n",
    "\n",
    "# Initialize the Cox Proportional Hazards fitter\n",
    "cph = CoxPHFitter()\n",
    "\n",
    "# Fit the model\n",
    "cph.fit(cox_data, duration_col='tenure', event_col='event')\n",
    "\n",
    "# Print the summary\n",
    "cph.print_summary()\n",
    "\n",
    "# Plot the coefficients\n",
    "cph.plot()\n",
    "plt.title('Cox Proportional Hazards Model Coefficients')\n",
    "plt.show()"
   ]
  },
  {
   "cell_type": "code",
   "execution_count": null,
   "metadata": {},
   "outputs": [],
   "source": [
    "# Select relevant columns\n",
    "cox_data = employee_data[['tenure', 'event', 'Age','MonthlyIncome','MonthlyRate','HourlyRate','YearsWithCurrManager','YearsInCurrentRole','YearsSinceLastPromotion','TotalWorkingYears','TrainingTimesLastYear']]\n",
    "\n",
    "# Encode categorical variables\n",
    "cox_data = pd.get_dummies(cox_data, drop_first=True)\n",
    "\n",
    "# Initialize the Cox Proportional Hazards fitter\n",
    "cph = CoxPHFitter()\n",
    "\n",
    "# Fit the model\n",
    "cph.fit(cox_data, duration_col='tenure', event_col='event')\n",
    "\n",
    "# Print the summary\n",
    "cph.print_summary()\n",
    "\n",
    "# Plot the coefficients\n",
    "cph.plot()\n",
    "plt.title('Cox Proportional Hazards Model Coefficients')\n",
    "plt.show()"
   ]
  },
  {
   "cell_type": "code",
   "execution_count": null,
   "metadata": {},
   "outputs": [],
   "source": [
    "excluded = ['YearsAtCompany','Attrition']\n",
    "\n",
    "# Select relevant columns\n",
    "cox_data = employee_data.drop(columns=excluded)\n",
    "\n",
    "# Encode categorical variables\n",
    "cox_data = pd.get_dummies(cox_data, drop_first=True)\n",
    "\n",
    "# Initialize the Cox Proportional Hazards fitter\n",
    "cph = CoxPHFitter()\n",
    "\n",
    "# Fit the model\n",
    "cph.fit(cox_data, duration_col='tenure', event_col='event')\n",
    "\n",
    "# Print the summary\n",
    "cph.print_summary()\n",
    "\n",
    "# Plot the coefficients\n",
    "cph.plot()\n",
    "plt.title('Cox Proportional Hazards Model Coefficients')\n",
    "plt.show()"
   ]
  }
 ],
 "metadata": {
  "language_info": {
   "name": "python"
  }
 },
 "nbformat": 4,
 "nbformat_minor": 2
}
